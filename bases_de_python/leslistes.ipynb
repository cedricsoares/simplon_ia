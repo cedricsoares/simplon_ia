
les listes
Définition
Ensemble d'élements ordonnées par un Index qui va de 0 à la taille de liste. La liste est mutable c'est à dire que chacun des élements peuvent être changés.

La liste peut contenir des chiffres des chaines de caractères des booléens, des listes, des dictionnaire, des fonctions, des tupples....

In [ ]:
l=[l1,.....ln]
Déclaration
La liste se déclare avec des [] si on veut une liste vide. Chaque élement de la liste est séparé par des virgules.

La liste peut être déclaré en utilisant une liste de compréhension

In [4]:
l = [1, 2, 3, 4, 5]
l1= [num+1 for num in l]
print(l1)
[2, 3, 4, 5, 6]
Elle peut être aussi déclaré en utilisant le type constructeur list() ou list(iterable) (ex range)

Récupération d'un élement de la liste:
On peut récupérer un ou plusieurs élement de la liste grâce à leurs index. Dans une liste le premier élement est un index 0

In [5]:
l = [ 1, 2, 3, 4]
print (l[0])
1
Dans le cas d'une liste de liste

In [7]:
l1=[[1, 2, 3, 4], ["a","b", "c","d"]]
print(l1[1][3])
d
Pour récupérer une portion de la liste on utlise le slicing:

In [10]:
l = [ 1, 2, 3, 4, 5, 6, 7, _, 9, 10]
print(l[0:3]) #récupère de l'index 0 à l'index 3
print(l[:3]) #récupère à père du début de la liste à l'index 3
print(l[3:]) #récupère de l'index 3 à la fin de la liste
print(l[-2:]) #récupère les deux derniers
print(l[1, 4, 2]) #récupère de l'index 1 à l'index 4 avec un écart de 2
print(l[::-1]) #inverse la liste
[1, 2, 3]
[1, 2, 3]
[4]
[4, 3, 2, 1]
[3, 4]
Les méthodes
append(x)
Ajoute l'élément x à la fin de la liste

insert(i, x)
Ajoute x à l'index i

extend(l2)
Ajoute des élémentsde l2 à la fin de la liste utilisant la méthode

remove(x)
va retirer de la liste le premier élément égal à x

pop(i)
Retourne la valeur à l'index i et la retire de la liste. Par défaut si i n'est pas précisé, retour et retire le dernier élément de la list.

clear()
index(x, start, end)
Retour le premier index de x dans la liste . Start et end optionnels permettent de délimiter une portion de liste

rindex(x, start, end)
Retour le dernier index de x dans la liste. Start et end

count(x)
sum()
sort(key=none, reverse=false)
reverse()
copy()
map(function to apply, input)
zip(list1, list2)
In [ ]:

exit
