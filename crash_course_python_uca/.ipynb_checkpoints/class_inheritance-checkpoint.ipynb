{
 "cells": [
  {
   "cell_type": "code",
   "execution_count": 2,
   "metadata": {},
   "outputs": [],
   "source": [
    "s = \"Je fais un MOOC sur Python\"\n",
    "class Phrase:\n",
    "    def __init__(self, ma_phrase): #to initialize a class\n",
    "        self.ma_phrase = ma_phrase\n",
    "        self.mots = ma_phrase.split()\n",
    "    def nb_lettres(self):\n",
    "        return len(self.ma_phrase)\n",
    "    def __len__(self): #to use a len behavior in a class\n",
    "        return len(self.mots)\n",
    "    def __contains__(self, mot): #to use in behavior\n",
    "        return mot in self.mots   \n",
    "    def __str__(self):\n",
    "        return \"\\n\".join(self.mots)"
   ]
  },
  {
   "cell_type": "code",
   "execution_count": 3,
   "metadata": {},
   "outputs": [],
   "source": [
    "class PhraseSansCasse(Phrase):\n",
    "    pass"
   ]
  },
  {
   "cell_type": "code",
   "execution_count": 4,
   "metadata": {},
   "outputs": [],
   "source": [
    "p_no = PhraseSansCasse(s)"
   ]
  },
  {
   "cell_type": "code",
   "execution_count": 5,
   "metadata": {},
   "outputs": [
    {
     "data": {
      "text/plain": [
       "True"
      ]
     },
     "execution_count": 5,
     "metadata": {},
     "output_type": "execute_result"
    }
   ],
   "source": [
    "isinstance(p_no, Phrase) #Test if an element is an instance of a class. First parameter is the element, second the class"
   ]
  },
  {
   "cell_type": "code",
   "execution_count": null,
   "metadata": {},
   "outputs": [],
   "source": []
  }
 ],
 "metadata": {
  "kernelspec": {
   "display_name": "Python 3",
   "language": "python",
   "name": "python3"
  },
  "language_info": {
   "codemirror_mode": {
    "name": "ipython",
    "version": 3
   },
   "file_extension": ".py",
   "mimetype": "text/x-python",
   "name": "python",
   "nbconvert_exporter": "python",
   "pygments_lexer": "ipython3",
   "version": "3.7.1"
  }
 },
 "nbformat": 4,
 "nbformat_minor": 2
}
